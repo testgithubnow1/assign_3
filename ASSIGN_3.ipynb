{
  "nbformat": 4,
  "nbformat_minor": 0,
  "metadata": {
    "colab": {
      "name": "ASSIGN_3.ipynb",
      "provenance": [],
      "collapsed_sections": []
    },
    "kernelspec": {
      "name": "python3",
      "display_name": "Python 3"
    }
  },
  "cells": [
    {
      "cell_type": "code",
      "metadata": {
        "id": "6zZVhJD9OeFv",
        "outputId": "2eb3416d-c3f1-49e2-a89b-990a32e5b97c",
        "colab": {
          "base_uri": "https://localhost:8080/"
        }
      },
      "source": [
        "# Answer 1\n",
        "import numpy as np\n",
        "\n",
        "arr1 = np.arange(2,51,3)\n",
        "print(arr1)\n"
      ],
      "execution_count": null,
      "outputs": [
        {
          "output_type": "stream",
          "text": [
            "[ 2  5  8 11 14 17 20 23 26 29 32 35 38 41 44 47 50]\n"
          ],
          "name": "stdout"
        }
      ]
    },
    {
      "cell_type": "code",
      "metadata": {
        "id": "5-e5pxHnPvlV",
        "outputId": "280ab53d-9463-48ce-945e-01c871d2d668",
        "colab": {
          "base_uri": "https://localhost:8080/"
        }
      },
      "source": [
        "# Answer 2\n",
        "\n",
        "list1=[]\n",
        "for i in range(0,5):\n",
        "  ele = int(input())\n",
        "  list1.append(ele)\n",
        "\n",
        "list2=[]\n",
        "for j in range(0,5):\n",
        "  ele = int(input())\n",
        "  list2.append(ele)\n",
        "\n",
        "#print(list1)\n",
        "#print(list2)\n",
        "a1 = np.array(list1)\n",
        "a2 = np.array(list2)\n",
        "\n",
        "a3 = np.concatenate((a1, a2))\n",
        "print(a3)  # Concatenated 2 list as array\n",
        "\n",
        "print(np.sort(a3))  # Sorted array"
      ],
      "execution_count": null,
      "outputs": [
        {
          "output_type": "stream",
          "text": [
            "1\n",
            "2\n",
            "3\n",
            "4\n",
            "5\n",
            "22\n",
            "33\n",
            "55\n",
            "44\n",
            "11\n",
            "[ 1  2  3  4  5 22 33 55 44 11]\n",
            "[ 1  2  3  4  5 11 22 33 44 55]\n"
          ],
          "name": "stdout"
        }
      ]
    },
    {
      "cell_type": "code",
      "metadata": {
        "id": "Vkm9Gt1iQ2mf"
      },
      "source": [
        "# Answer 3\n",
        "#a = np.arange(3)\n",
        "\n",
        "my_array = np.array([])\n",
        "a=int(input())  # Size of array\n",
        "for i in range(a):\n",
        "    ele=int(input())\n",
        "    my_array.append(ele)\n",
        "\n",
        "print(a.ndim)\n",
        "print(a.shape)\n"
      ],
      "execution_count": null,
      "outputs": []
    },
    {
      "cell_type": "code",
      "metadata": {
        "id": "DC25mdSkTW05",
        "outputId": "6617941c-4cb4-4e5a-d76e-911837212a88",
        "colab": {
          "base_uri": "https://localhost:8080/"
        }
      },
      "source": [
        "# Answer 4\n",
        "\n",
        "one_d = np.array([1, 2, 3, 4])\n",
        "print(one_d)\n",
        "\n",
        "two_d = np.reshape(one_d, (-1, 2))\n",
        "print(two_d)\n"
      ],
      "execution_count": null,
      "outputs": [
        {
          "output_type": "stream",
          "text": [
            "[1 2 3 4]\n",
            "[[1 2]\n",
            " [3 4]]\n"
          ],
          "name": "stdout"
        }
      ]
    },
    {
      "cell_type": "code",
      "metadata": {
        "id": "Txr4h8LdVzFN",
        "outputId": "7cc320a4-dc08-4106-9b71-9df53a63fbbb",
        "colab": {
          "base_uri": "https://localhost:8080/"
        }
      },
      "source": [
        "# Answer 5\n",
        "\n",
        "a1 = np.array([[1,2], [3,4]])\n",
        "a2 = np.array([[5,6], [7,8]])\n",
        "\n",
        "print(np.vstack((a1,a2)))\n",
        "print(np.hstack((a1,a2)))"
      ],
      "execution_count": null,
      "outputs": [
        {
          "output_type": "stream",
          "text": [
            "[[1 2]\n",
            " [3 4]\n",
            " [5 6]\n",
            " [7 8]]\n",
            "[[1 2 5 6]\n",
            " [3 4 7 8]]\n"
          ],
          "name": "stdout"
        }
      ]
    },
    {
      "cell_type": "code",
      "metadata": {
        "id": "RNZFc4HQW7F_",
        "outputId": "2eb065fc-4bce-4229-8955-d44aae7b59c5",
        "colab": {
          "base_uri": "https://localhost:8080/"
        }
      },
      "source": [
        "# Answer 6\n",
        "\n",
        "a = np.array([1, 1, 2, 2, 3, 4, 5, 5])\n",
        "unique = np.unique(a)\n",
        "print(unique)\n",
        "print(len(unique))\n",
        "\n"
      ],
      "execution_count": null,
      "outputs": [
        {
          "output_type": "stream",
          "text": [
            "[1 2 3 4 5]\n",
            "5\n"
          ],
          "name": "stdout"
        }
      ]
    },
    {
      "cell_type": "code",
      "metadata": {
        "id": "e7OfUI2SYmue"
      },
      "source": [
        ""
      ],
      "execution_count": null,
      "outputs": []
    }
  ]
}